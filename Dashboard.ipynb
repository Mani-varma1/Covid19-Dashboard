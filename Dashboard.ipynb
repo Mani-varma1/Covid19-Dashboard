{
 "cells": [
  {
   "cell_type": "markdown",
   "metadata": {},
   "source": [
    "[DIY Covid-19 Dashboard Kit] By Mani"
   ]
  },
  {
   "cell_type": "markdown",
   "metadata": {},
   "source": [
    "# DIY Covid-19 Dashboard"
   ]
  },
  {
   "cell_type": "code",
   "execution_count": 1,
   "metadata": {},
   "outputs": [],
   "source": [
    "from IPython.display import clear_output\n",
    "import ipywidgets as wdg\n",
    "import pandas as pd\n",
    "import numpy as np\n",
    "import matplotlib.pyplot as plt\n",
    "import json\n",
    "from uk_covid19 import Cov19API"
   ]
  },
  {
   "cell_type": "code",
   "execution_count": 2,
   "metadata": {},
   "outputs": [],
   "source": [
    "%matplotlib inline\n",
    "# make figures larger\n",
    "plt.rcParams['figure.dpi'] = 100"
   ]
  },
  {
   "cell_type": "code",
   "execution_count": 3,
   "metadata": {},
   "outputs": [],
   "source": [
    "# Load JSON files and store the raw data in some variable. Edit as appropriate\n",
    "with open(\"ageVacDeath.json\", \"rt\") as INFILE:\n",
    "    data=json.load(INFILE)\n",
    "jsondata=data['data']"
   ]
  },
  {
   "cell_type": "code",
   "execution_count": 4,
   "metadata": {
    "tags": []
   },
   "outputs": [],
   "source": [
    "\n",
    "\n",
    "def wrangle_data_young(rawdata):\n",
    "    \"\"\" Parameters: rawdata - data from json file or API call. Returns a dataframe.\n",
    "    Edit to include the code that wrangles the data, creates the dataframe and fills it in. \"\"\"\n",
    "    final_list_young = []\n",
    "\n",
    "    for dictionary in rawdata:\n",
    "        final_death_tmp = []\n",
    "        final_vac_tmp = []\n",
    "        for keys,values in dictionary.items():\n",
    "\n",
    "            if keys == 'date':\n",
    "                date = (keys,dictionary[keys])\n",
    "\n",
    "\n",
    "            elif keys == 'deathsAgeDemographic':\n",
    "                for death_dict in dictionary[keys]:\n",
    "                    death_tmp = []\n",
    "                    for death_key,death_value in death_dict.items():\n",
    "                        if death_key == 'age' and death_value == '00_59':\n",
    "                            death_tmp.append(death_dict['deaths'])\n",
    "                            final_death_tmp.append(sum(death_tmp))\n",
    "\n",
    "\n",
    "\n",
    "            elif keys == 'vaccineAgeDemographics':\n",
    "                for vac_dict in dictionary[keys]:\n",
    "                    vac_tmp = []\n",
    "                    for vac_key,vac_value in vac_dict.items():\n",
    "                        if vac_key == 'age' and ([float(each_age.replace('+','')) for each_age in vac_value.split('_')][-1] < 60):\n",
    "                            vac_tmp.append(vac_dict['newPeopleVaccinatedCompleteByVaccinationDate'])\n",
    "                    final_vac_tmp.append(sum(vac_tmp))\n",
    "                vac_tmp = []\n",
    "                final_list_young.append([date,('DailyDeath',sum(final_death_tmp)),('DailyVac',sum(final_vac_tmp))])\n",
    "\n",
    "\n",
    "    return final_list_young\n",
    "    \n",
    "\n",
    "\n",
    "\n",
    "def wrangle_data_old(rawdata):\n",
    "    \"\"\" Parameters: rawdata - data from json file or API call. Returns a dataframe.\n",
    "    Edit to include the code that wrangles the data, creates the dataframe and fills it in. \"\"\"\n",
    "    \n",
    "    final_list_old = []\n",
    "\n",
    "    for dictionary in rawdata:\n",
    "        final_death_tmp = []\n",
    "        final_vac_tmp = []\n",
    "        for keys,values in dictionary.items():\n",
    "\n",
    "            if keys == 'date':\n",
    "                date = (keys,dictionary[keys])\n",
    "\n",
    "\n",
    "            elif keys == 'deathsAgeDemographic':\n",
    "                for death_dict in dictionary[keys]:\n",
    "                    death_tmp = []\n",
    "                    for death_key,death_value in death_dict.items():\n",
    "                        if death_key == 'age' and death_value == '60+':\n",
    "                            death_tmp.append(death_dict['deaths'])\n",
    "                            final_death_tmp.append(sum(death_tmp))\n",
    "\n",
    "\n",
    "\n",
    "            elif keys == 'vaccineAgeDemographics':\n",
    "                for vac_dict in dictionary[keys]:\n",
    "                    vac_tmp = []\n",
    "                    for vac_key,vac_value in vac_dict.items():\n",
    "                        if vac_key == 'age' and ([float(each_age.replace('+','')) for each_age in vac_value.split('_')][0] >= 60):\n",
    "                            vac_tmp.append(vac_dict['newPeopleVaccinatedCompleteByVaccinationDate'])\n",
    "                    final_vac_tmp.append(sum(vac_tmp))\n",
    "                vac_tmp = []\n",
    "                final_list_old.append([date,('DailyDeath',sum(final_death_tmp)),('DailyVac',sum(final_vac_tmp))])\n",
    "    return final_list_old\n",
    "    \n",
    "    \n"
   ]
  },
  {
   "cell_type": "code",
   "execution_count": 5,
   "metadata": {},
   "outputs": [],
   "source": [
    "def getyoung_df(rawdata):\n",
    "    final_data_young = [dict(item) for item in wrangle_data_young(rawdata)]\n",
    "\n",
    "    dates=[dictionary['date'] for dictionary in rawdata]\n",
    "    dates.sort()\n",
    "    def parse_date(datestring):\n",
    "        \"\"\" Convert a date string into a pandas datetime object \"\"\"\n",
    "        return pd.to_datetime(datestring, format=\"%Y-%m-%d\")\n",
    "\n",
    "    startdate=parse_date(dates[0])\n",
    "    enddate=parse_date(dates[-1])\n",
    "#     print (startdate, ' to ', enddate)  \n",
    "\n",
    "\n",
    "    index=pd.date_range(startdate, enddate, freq='D')\n",
    "    young_timeseriesdf=pd.DataFrame(index=index, columns=['DailyDeath', 'DailyVac'])\n",
    "    for entry in final_data_young: # each entry is a dictionary with date, cases, hospital and deaths\n",
    "        date=parse_date(entry['date'])\n",
    "        for column in ['DailyDeath', 'DailyVac']:\n",
    "            # check that nothing is there yet - just in case some dates are duplicated,\n",
    "            # maybe with data for different columns in each entry\n",
    "            if pd.isna(young_timeseriesdf.loc[date, column]): \n",
    "                # replace None with 0 in our data \n",
    "                value= float(entry[column]) if entry[column]!=None else 0.0\n",
    "                # this is the way you access a specific location in the dataframe - use .loc\n",
    "                # and put index,column in a single set of [ ]\n",
    "                young_timeseriesdf.loc[date, column]=value\n",
    "\n",
    "    # fill in any remaining \"holes\" due to missing dates\n",
    "    young_timeseriesdf.fillna(0.0, inplace=True)\n",
    "    return young_timeseriesdf\n",
    "\n",
    "\n",
    "\n",
    "\n",
    "\n",
    "def getold_df(rawdata):\n",
    "    final_data_old = [dict(item) for item in wrangle_data_old(rawdata)]\n",
    "\n",
    "    dates=[dictionary['date'] for dictionary in rawdata]\n",
    "    dates.sort()\n",
    "    def parse_date(datestring):\n",
    "        \"\"\" Convert a date string into a pandas datetime object \"\"\"\n",
    "        return pd.to_datetime(datestring, format=\"%Y-%m-%d\")\n",
    "\n",
    "    startdate=parse_date(dates[0])\n",
    "    enddate=parse_date(dates[-1])\n",
    "#     print (startdate, ' to ', enddate)  \n",
    "\n",
    "\n",
    "    index=pd.date_range(startdate, enddate, freq='D')\n",
    "    old_timeseriesdf=pd.DataFrame(index=index, columns=['DailyDeath', 'DailyVac'])\n",
    "    for entry in final_data_old: # each entry is a dictionary with date, cases, hospital and deaths\n",
    "        date=parse_date(entry['date'])\n",
    "        for column in ['DailyDeath', 'DailyVac']:\n",
    "            # check that nothing is there yet - just in case some dates are duplicated,\n",
    "            # maybe with data for different columns in each entry\n",
    "            if pd.isna(old_timeseriesdf.loc[date, column]): \n",
    "                # replace None with 0 in our data \n",
    "                value= float(entry[column]) if entry[column]!=None else 0.0\n",
    "                # this is the way you access a specific location in the dataframe - use .loc\n",
    "                # and put index,column in a single set of [ ]\n",
    "                old_timeseriesdf.loc[date, column]=value\n",
    "\n",
    "    # fill in any remaining \"holes\" due to missing dates\n",
    "    old_timeseriesdf.fillna(0.0, inplace=True)\n",
    "    return old_timeseriesdf\n",
    "\n",
    "\n",
    "\n",
    "\n"
   ]
  },
  {
   "cell_type": "code",
   "execution_count": 6,
   "metadata": {
    "tags": []
   },
   "outputs": [],
   "source": [
    "yg_pd_df = getyoung_df(jsondata)\n",
    "old_pd_df = getold_df(jsondata)"
   ]
  },
  {
   "cell_type": "code",
   "execution_count": null,
   "metadata": {},
   "outputs": [],
   "source": []
  },
  {
   "cell_type": "code",
   "execution_count": null,
   "metadata": {},
   "outputs": [],
   "source": []
  },
  {
   "cell_type": "code",
   "execution_count": null,
   "metadata": {},
   "outputs": [],
   "source": []
  },
  {
   "cell_type": "code",
   "execution_count": null,
   "metadata": {},
   "outputs": [],
   "source": []
  },
  {
   "cell_type": "code",
   "execution_count": 7,
   "metadata": {},
   "outputs": [],
   "source": [
    "# Place your API access code in this function. Do not call this function directly; it will be called by \n",
    "# the button callback. \n",
    "def access_api():\n",
    "    \"\"\" Accesses the PHE API. Returns raw data in the same format as data loaded from the \"canned\" JSON file. \"\"\"\n",
    "    from uk_covid19 import Cov19API\n",
    "    import json\n",
    "    \n",
    "    filters = [\n",
    "        'areaType=nation'\n",
    "    ]\n",
    "\n",
    "    structure = {\n",
    "        \"date\": \"date\",\n",
    "        \"deathsAgeDemographic\": \"newDeaths28DaysByDeathDateAgeDemographics\",\n",
    "        \"vaccineAgeDemographics\": \"vaccinationsAgeDemographics\",\n",
    "\n",
    "    }\n",
    "    api = Cov19API(filters=filters, structure=structure)\n",
    "    ageVacDeath=api.get_json()\n",
    "    \n",
    "    return ageVacDeath['data']  # return data read from the API"
   ]
  },
  {
   "cell_type": "markdown",
   "metadata": {},
   "source": [
    "# Download latest data. \n",
    "##### By default loads data up to 25/10/2021"
   ]
  },
  {
   "cell_type": "code",
   "execution_count": 19,
   "metadata": {},
   "outputs": [
    {
     "data": {
      "application/vnd.jupyter.widget-view+json": {
       "model_id": "13c4601bfe2d424697b61ffe9710c906",
       "version_major": 2,
       "version_minor": 0
      },
      "text/plain": [
       "Button(button_style='success', description='Get Data', icon='download', style=ButtonStyle(), tooltip='Click to…"
      ]
     },
     "metadata": {},
     "output_type": "display_data"
    }
   ],
   "source": [
    "# Printout from this function will be lost in Voila unless captured in an\n",
    "# output widget - therefore, we give feedback to the user by changing the \n",
    "# appearance of the button\n",
    "def api_button_callback(button):\n",
    "    import time\n",
    "    apibutton.icon=\"fa-spinner\"\n",
    "    apibutton.disabled=True\n",
    "    apibutton.description='Downloading...'\n",
    "    time.sleep(5)\n",
    "    \"\"\" Button callback - it must take the button as its parameter (unused in this case).\n",
    "    Accesses API, wrangles data, updates global variable df used for plotting. \"\"\"\n",
    "#     apidata=access_api()\n",
    "    apibutton.icon=\"check\"\n",
    "    apibutton.description='Download finished'\n",
    "#         #wrangle the data and overwrite the dataframe for plotting\n",
    "#     global yg_pd_df\n",
    "#     global old_pd_df\n",
    "#     yg_pd_df = getyoung_df(apidata)\n",
    "#     old_pd_df = getold_df(apidata)\n",
    "# #     refresh_graph()\n",
    "    apibutton.icon,apibutton.description=(\"fa-hand-paper-o\",'Wait10s')\n",
    "\n",
    "    for x in reversed(range(0,10,)):\n",
    "        time.sleep(1)\n",
    "        apibutton.description=f'Wait {x}s'\n",
    "        \n",
    "        \n",
    "\n",
    "    apibutton.disabled=False\n",
    "    apibutton.icon=\"download\"\n",
    "    apibutton.description='Download data'\n",
    "    \n",
    "    \n",
    "\n",
    "apibutton=wdg.Button(\n",
    "    description='Get Data', # you may want to change this...\n",
    "    disabled=False,\n",
    "    button_style='success', # 'success', 'info', 'warning', 'danger' or ''\n",
    "    tooltip=\"Click to download current Public Health England data\",\n",
    "    # FontAwesome names without the `fa-` prefix - try \"download\"\n",
    "    icon='download',\n",
    ")\n",
    "# remember to register your button callback function with the button\n",
    "apibutton.on_click(api_button_callback) # the name of your function inside these brackets\n",
    "\n",
    "display(apibutton)\n",
    "\n",
    "# run all cells before clicking on this button"
   ]
  },
  {
   "cell_type": "markdown",
   "metadata": {},
   "source": [
    "# Graphs and Analysis"
   ]
  },
  {
   "cell_type": "markdown",
   "metadata": {},
   "source": [
    "## Data for vaccine and deaths based on age distribution (ages <60)"
   ]
  },
  {
   "cell_type": "code",
   "execution_count": 10,
   "metadata": {},
   "outputs": [
    {
     "data": {
      "application/vnd.jupyter.widget-view+json": {
       "model_id": "19ee38a24b8f4e7085c7aa55b7d2129e",
       "version_major": 2,
       "version_minor": 0
      },
      "text/plain": [
       "HBox(children=(SelectMultiple(description='Stats:', index=(0, 1), options=('DailyDeath', 'DailyVac'), rows=2, …"
      ]
     },
     "metadata": {},
     "output_type": "display_data"
    },
    {
     "data": {
      "application/vnd.jupyter.widget-view+json": {
       "model_id": "57bcf978e9054e93b3e548a4e4da03c4",
       "version_major": 2,
       "version_minor": 0
      },
      "text/plain": [
       "Output()"
      ]
     },
     "metadata": {},
     "output_type": "display_data"
    }
   ],
   "source": [
    "import datetime\n",
    "series=wdg.SelectMultiple(\n",
    "    options=['DailyDeath','DailyVac'],\n",
    "    value=['DailyDeath','DailyVac'],\n",
    "    rows=2,\n",
    "    description='Stats:',\n",
    "    disabled=False\n",
    ")\n",
    "\n",
    "scale=wdg.RadioButtons(\n",
    "    options=['linear', 'log'],\n",
    "#    value='pineapple', # Defaults to 'pineapple'\n",
    "#    layout={'width': 'max-content'}, # If the items' names are long\n",
    "    description='Scale:',\n",
    "    disabled=False\n",
    ")\n",
    "\n",
    "dates = [datetime.date(2020,i,1) for i in range(1,13)]\n",
    "options = [(i.strftime('%b'), i) for i in dates]\n",
    "# print(options)\n",
    "Months=wdg.SelectionRangeSlider(\n",
    "    options=options,\n",
    "    index=(0,11),\n",
    "    description='Months(Faulty)',\n",
    "    disabled=False\n",
    ")\n",
    "but = wdg.Button(description = 'Select Everything', button_style='info',  tooltip='To Display Vaccinations and Deaths',\n",
    ")\n",
    "\n",
    "def select_all(*args):\n",
    "    series.value = series.options\n",
    "\n",
    "but.on_click(select_all)\n",
    "# try replacing HBox with a VBox\n",
    "controls=wdg.HBox([series, but,scale,Months])\n",
    "\n",
    "def timeseries_graph_young(gcols, gscale):\n",
    "    if gscale=='linear':\n",
    "        logscale=False\n",
    "    else:\n",
    "        logscale=True\n",
    "    ncols=len(gcols)\n",
    "    if ncols>0:\n",
    "        yg_pd_df[list(gcols)].plot(logy=logscale)\n",
    "        plt.title('Ages <60')\n",
    "        plt.show() # important - graphs won't update if this is missing \n",
    "    else:\n",
    "        print(\"Click to select data for graph\")\n",
    "        print(\"(CTRL-Click to select more than one category)\")\n",
    "# keep calling timeseries_graph(gcols=value_of_series, gscale=value_of_scale); \n",
    "# capture output in widget graph   \n",
    "\n",
    "\n",
    "graph=wdg.interactive_output(timeseries_graph_young, {'gcols': series, 'gscale': scale})\n",
    "\n",
    "display(controls, graph)"
   ]
  },
  {
   "cell_type": "markdown",
   "metadata": {},
   "source": [
    "## Data for vaccine and deaths based on age distribution (ages 60 and above)"
   ]
  },
  {
   "cell_type": "code",
   "execution_count": 11,
   "metadata": {},
   "outputs": [
    {
     "data": {
      "application/vnd.jupyter.widget-view+json": {
       "model_id": "f8165f65764440978627ebf0c38f4e82",
       "version_major": 2,
       "version_minor": 0
      },
      "text/plain": [
       "HBox(children=(SelectMultiple(description='Stats:', index=(0, 1), options=('DailyDeath', 'DailyVac'), rows=2, …"
      ]
     },
     "metadata": {},
     "output_type": "display_data"
    },
    {
     "data": {
      "application/vnd.jupyter.widget-view+json": {
       "model_id": "b0025c3e8a6a4795be3481b92b48a215",
       "version_major": 2,
       "version_minor": 0
      },
      "text/plain": [
       "Output()"
      ]
     },
     "metadata": {},
     "output_type": "display_data"
    }
   ],
   "source": [
    "import datetime\n",
    "old_series=wdg.SelectMultiple(\n",
    "    options=['DailyDeath','DailyVac'],\n",
    "    value=['DailyDeath','DailyVac'],\n",
    "    rows=2,\n",
    "    description='Stats:',\n",
    "    disabled=False\n",
    ")\n",
    "\n",
    "old_scale=wdg.RadioButtons(\n",
    "    options=['linear', 'log'],\n",
    "#    value='pineapple', # Defaults to 'pineapple'\n",
    "#    layout={'width': 'max-content'}, # If the items' names are long\n",
    "    description='Scale:',\n",
    "    disabled=False\n",
    ")\n",
    "however = wdg.Button(description = 'Select Everything', button_style='info',  tooltip='To Display Vaccinations and Deaths',\n",
    ")\n",
    "\n",
    "def select_all(*args):\n",
    "    old_series.value = old_series.options\n",
    "\n",
    "however.on_click(select_all)\n",
    "# try replacing HBox with a VBox\n",
    "\n",
    "\n",
    "old_dates = [datetime.date(2020,i,1) for i in range(1,13)]\n",
    "old_options = [(i.strftime('%b'), i) for i in old_dates]\n",
    "# print(options)\n",
    "old_Months=wdg.SelectionRangeSlider(\n",
    "    options=old_options,\n",
    "    index=(0,11),\n",
    "    description='Months(Faulty)',\n",
    "    disabled=False\n",
    ")\n",
    "\n",
    "# try replacing HBox with a VBox\n",
    "old_controls=wdg.HBox([old_series,however,old_scale,old_Months])\n",
    "\n",
    "def timeseries_graph_old(gcols, gscale):\n",
    "    if gscale=='linear':\n",
    "        logscale=False\n",
    "    else:\n",
    "        logscale=True\n",
    "    ncols=len(gcols)\n",
    "    if ncols>0:\n",
    "        old_pd_df[list(gcols)].plot(logy=logscale)\n",
    "        plt.title('Ages 60 or Above')\n",
    "        plt.show() # important - graphs won't update if this is missing \n",
    "    else:\n",
    "        print(\"Click to select data for graph\")\n",
    "        print(\"(CTRL-Click to select more than one category)\")\n",
    "# keep calling timeseries_graph(gcols=value_of_series, gscale=value_of_scale); \n",
    "# capture output in widget graph   \n",
    "old_graph=wdg.interactive_output(timeseries_graph_old, {'gcols': old_series, 'gscale': old_scale})\n",
    "\n",
    "display(old_controls, old_graph)\n",
    "# def refresh_graph():\n",
    "#     \"\"\" We change the value of the widget in order to force a redraw of the graph;\n",
    "#     this is useful when the data have been updated. This is a bit of a gimmick; it\n",
    "#     needs to be customised for one of your widgets. \"\"\"\n",
    "#     current=whichwalk.value\n",
    "#     if current==whichwalk.options[0]:\n",
    "#         other=whichwalk.options[1]\n",
    "#     else:\n",
    "#         other=whichwalk.options[0]\n",
    "#     whichwalk.value=other # forces the redraw\n",
    "#     whichwalk.value=current # now we can change it back\n",
    "    \n",
    "    \n",
    "# graph=wdg.interactive_output(plot_young, {'walk': whichwalk})"
   ]
  },
  {
   "cell_type": "markdown",
   "metadata": {},
   "source": [
    "**Author and Copyright Notice** *Based on UK Government [data](https://coronavirus.data.gov.uk/) published by [Public Health England](https://www.gov.uk/government/organisations/public-health-england).*"
   ]
  },
  {
   "cell_type": "code",
   "execution_count": null,
   "metadata": {},
   "outputs": [],
   "source": []
  }
 ],
 "metadata": {
  "kernelspec": {
   "display_name": "Python 3 (ipykernel)",
   "language": "python",
   "name": "python3"
  },
  "language_info": {
   "codemirror_mode": {
    "name": "ipython",
    "version": 3
   },
   "file_extension": ".py",
   "mimetype": "text/x-python",
   "name": "python",
   "nbconvert_exporter": "python",
   "pygments_lexer": "ipython3",
   "version": "3.9.6"
  }
 },
 "nbformat": 4,
 "nbformat_minor": 4
}
